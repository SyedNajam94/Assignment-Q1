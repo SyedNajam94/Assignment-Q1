{
 "cells": [
  {
   "cell_type": "code",
   "execution_count": 14,
   "metadata": {},
   "outputs": [
    {
     "name": "stdout",
     "output_type": "stream",
     "text": [
      "Input the radius of the circle : 5.5\n",
      "The area of the circle with radius  5.5  is:  95.03317777109125\n"
     ]
    }
   ],
   "source": [
    "# 1 Write a Python program which accepts the radius of a circle from the user and compute the area.\n",
    "from math import pi\n",
    "r = float(input (\"Input the radius of the circle : \"))\n",
    "area=pi*r**2\n",
    "print (\"The area of the circle with radius \",r,\" is: \",area)"
   ]
  },
  {
   "cell_type": "code",
   "execution_count": 5,
   "metadata": {},
   "outputs": [
    {
     "name": "stdout",
     "output_type": "stream",
     "text": [
      "Enter a number: 0\n",
      "Number Entered is Zero\n"
     ]
    }
   ],
   "source": [
    "# 2. In this python program, user enters a number and checked if the number is positive or negative or zero.\n",
    "num = float(input(\"Enter a number: \"))\n",
    "if num > 0:\n",
    "    print(\"Positive number Entered\")\n",
    "elif num == 0:\n",
    "    print(\"Number Entered is Zero\")\n",
    "else:\n",
    "    print(\"Negative number Entered\")"
   ]
  },
  {
   "cell_type": "code",
   "execution_count": 16,
   "metadata": {},
   "outputs": [
    {
     "name": "stdout",
     "output_type": "stream",
     "text": [
      "Enter numerator: 10\n",
      "Enter Denominator: 5\n",
      "Number  10  is divisible by  5\n"
     ]
    }
   ],
   "source": [
    "# 3. Divisibility Check of two numbers\n",
    "def divisible(n, d):\n",
    "    if n % d == 0:\n",
    "        print(\"Number \",n,\" is divisible by \",d)\n",
    "    else:\n",
    "        print(\"Number \",n,\" is not divisible by \",d)\n",
    "        \n",
    "n = int(input(\"Enter numerator: \"))\n",
    "d = int(input(\"Enter Denominator: \"))\n",
    "divisible(n, d)\n"
   ]
  },
  {
   "cell_type": "code",
   "execution_count": 17,
   "metadata": {},
   "outputs": [
    {
     "name": "stdout",
     "output_type": "stream",
     "text": [
      "Enter a date in (yy,mm,dd) format: 2016,12,10\n",
      "Enter a date in (yy,mm,dd) format: 2017,12,10\n",
      "There are  365  days in between  2016,12,10  and  2017,12,10\n"
     ]
    }
   ],
   "source": [
    "# 4. Write a Python program to calculate number of days between two dates\n",
    "import datetime\n",
    "from datetime import date\n",
    "def differ_days(date1, date2):\n",
    "\n",
    "    a = datetime.datetime.strptime(date1,\"%Y,%m,%d\")\n",
    "    b = datetime.datetime.strptime(date2,\"%Y,%m,%d\")\n",
    "    c = (b-a).days\n",
    "    print(\"There are \",c,\" days in between \",date1,\" and \",date2 )\n",
    "date1 = input(\"Enter a date in (yy,mm,dd) format: \")\n",
    "date2 = input(\"Enter a date in (yy,mm,dd) format: \")\n",
    "\n",
    "differ_days(date1, date2)"
   ]
  },
  {
   "cell_type": "code",
   "execution_count": 18,
   "metadata": {},
   "outputs": [
    {
     "name": "stdout",
     "output_type": "stream",
     "text": [
      "Input the radius of the sphere : 1\n",
      "The volume of the sphere with radius  1.0  is:  4.1887902047863905\n"
     ]
    }
   ],
   "source": [
    "# 5. Write a Python program to get the volume of a sphere, please take the radius as input from user\n",
    "from math import pi\n",
    "r = float(input (\"Input the radius of the sphere : \"))\n",
    "V= 4.0/3.0*pi*r**3\n",
    "print (\"The volume of the sphere with radius \",r,\" is: \",V)\n"
   ]
  },
  {
   "cell_type": "code",
   "execution_count": 19,
   "metadata": {},
   "outputs": [
    {
     "name": "stdout",
     "output_type": "stream",
     "text": [
      "Enter String: hi\n",
      "How many copies of String you need: 4\n",
      "4  Copies of  hi  are  hihihihi\n"
     ]
    }
   ],
   "source": [
    "# 6. Write a Python program to get a string which is n (non-negative integer) copies of a given string\n",
    "def larger_string(name, n):\n",
    "    result = \"\"\n",
    "    for i in range(n):\n",
    "        result = result + name\n",
    "    print(n,\" Copies of \",name,\" are \",result)\n",
    "  \n",
    "name = input(\"Enter String: \")\n",
    "n = int(input(\"How many copies of String you need: \"))\n",
    "              \n",
    "larger_string(name, n)\n"
   ]
  },
  {
   "cell_type": "code",
   "execution_count": 20,
   "metadata": {},
   "outputs": [
    {
     "name": "stdout",
     "output_type": "stream",
     "text": [
      "Enter a number: 5\n",
      "5  is odd number.\n"
     ]
    }
   ],
   "source": [
    "# 7. Write a Python program to find whether a given number (accept from the user) is even or odd, print out an appropriate message to the user\n",
    "num = int(input(\"Enter a number: \"))\n",
    "mod = num % 2\n",
    "if mod > 0:\n",
    "    print(num,\" is odd number.\")\n",
    "else:\n",
    "    print(num,\" is an even number.\")"
   ]
  },
  {
   "cell_type": "code",
   "execution_count": 21,
   "metadata": {},
   "outputs": [
    {
     "name": "stdout",
     "output_type": "stream",
     "text": [
      "Enter a character: I\n",
      "Letter  I  is a vowel.\n"
     ]
    }
   ],
   "source": [
    "# 8. Write a Python program to test whether a passed letter is a vowel or not\n",
    "l = input(\"Enter a character: \")\n",
    "\n",
    "if l in ('a', 'e', 'i', 'o', 'u') or l in ('A','E','I','O','U'):\n",
    "    print(\"Letter \",l,\" is a vowel.\")\n",
    "else:\n",
    "    print(\"Letter \",l,\" is a consonant.\") "
   ]
  },
  {
   "cell_type": "code",
   "execution_count": 22,
   "metadata": {},
   "outputs": [
    {
     "name": "stdout",
     "output_type": "stream",
     "text": [
      "Enter magnitude of Triangle base: 5\n",
      "Enter magnitude of Triangle height: 10\n",
      "Area of Triangle with base  5  and height  10  is  25.0\n"
     ]
    }
   ],
   "source": [
    "# 9. Write a Python program that will accept the base and height of a triangle and compute the area\n",
    "b = int(input(\"Enter magnitude of Triangle base: \"))\n",
    "h = int(input(\"Enter magnitude of Triangle height: \"))\n",
    "\n",
    "area = b*h/2\n",
    "\n",
    "print(\"Area of Triangle with base \",b,\" and height \",h,\" is \",area)"
   ]
  },
  {
   "cell_type": "code",
   "execution_count": 25,
   "metadata": {},
   "outputs": [
    {
     "name": "stdout",
     "output_type": "stream",
     "text": [
      "Please enter principal amount: 10000\n",
      "Please Enter Rate of interest in %: 0.1\n",
      "Enter number of years for investment 5\n",
      "After 5 years your principal amount 10000 over an interest rate of 0.1% will be 10050.0\n"
     ]
    }
   ],
   "source": [
    "# 10. Write a Python program to compute the future value of a specified principal amount, rate of interest, and a number\n",
    "of years\n",
    "amt = int(input(\"Please enter principal amount: \"))\n",
    "intr = float(input(\"Please Enter Rate of interest in %: \"))\n",
    "year = int(input(\"Enter number of years for investment \"))\n",
    "\n",
    "future_value  = amt + (amt/100*intr*year)\n",
    "value = future_value\n",
    "print(\"After \",year,\" years your principal amount \",amt,\" over an interest rate of \",intr,\"% will be \",value)"
   ]
  },
  {
   "cell_type": "code",
   "execution_count": 23,
   "metadata": {},
   "outputs": [
    {
     "name": "stdout",
     "output_type": "stream",
     "text": [
      "Enter Co-ordinate for x1: 2\n",
      "Enter Co-ordinate for y1: 4\n",
      "Enter Co-ordinate for x2: 4\n",
      "Enter Co-ordinate for y2: 4\n",
      "Distance between points  [2, 4]  and  [4, 4]  is  2.0\n"
     ]
    }
   ],
   "source": [
    "# 11. Write a Python program to compute the distance between the points (x1, y1) and (x2, y2).\n",
    "import math\n",
    "x1 = int(input(\"Enter Co-ordinate for x1: \"))\n",
    "y1 = int(input(\"Enter Co-ordinate for y1: \"))\n",
    "x2 = int(input(\"Enter Co-ordinate for x2: \"))\n",
    "y2 = int(input(\"Enter Co-ordinate for y2: \"))\n",
    "p1 = [x1, y1]\n",
    "p2 = [x2, y2]\n",
    "distance = math.sqrt( ((p1[0]-p2[0])**2)+((p1[1]-p2[1])**2) )\n",
    "\n",
    "print(\"Distance between points \",p1,\" and \",p2,\" is \",distance)"
   ]
  },
  {
   "cell_type": "code",
   "execution_count": 24,
   "metadata": {},
   "outputs": [
    {
     "name": "stdout",
     "output_type": "stream",
     "text": [
      "Enter height in Feet: 5\n",
      "There are  152.4  cm in  5  feet.\n"
     ]
    }
   ],
   "source": [
    "# 12. Write a Python program to convert height in feet to centimetres.\n",
    "h_ft = int(input(\"Enter height in Feet: \"))\n",
    "h_inch = h_ft*12 \n",
    "h_cm = h_inch * 2.54\n",
    "\n",
    "print(\"There are \",h_cm,\" cm in \",h_ft,\" feet.\" )"
   ]
  },
  {
   "cell_type": "code",
   "execution_count": 25,
   "metadata": {},
   "outputs": [
    {
     "name": "stdout",
     "output_type": "stream",
     "text": [
      "Input your height in centimeters: 180\n",
      "Input your weight in kilogram: 75\n",
      "Your body mass index is:  23.15\n"
     ]
    }
   ],
   "source": [
    "# 13. Write a Python program to calculate body mass index\n",
    "height = float(input(\"Input your height in centimeters: \"))\n",
    "weight = float(input(\"Input your weight in kilogram: \"))\n",
    "print(\"Your body mass index is: \", round((weight*10000) / (height * height), 2))"
   ]
  },
  {
   "cell_type": "code",
   "execution_count": 13,
   "metadata": {},
   "outputs": [
    {
     "name": "stdout",
     "output_type": "stream",
     "text": [
      "Input a number: 5\n",
      "Sum of Positive Integer till  5  is  15.0\n"
     ]
    }
   ],
   "source": [
    "# 14. Write a python program to sum of the first n positive integers\n",
    "n = int(input(\"Input a number: \"))\n",
    "sum_num = (n * (n + 1)) / 2\n",
    "print(\"Sum of Positive Integer till \",n, \" is \" ,sum_num)"
   ]
  },
  {
   "cell_type": "code",
   "execution_count": 91,
   "metadata": {},
   "outputs": [
    {
     "name": "stdout",
     "output_type": "stream",
     "text": [
      "Enter a number: 12\n",
      "sum of 1 + 2  is  3\n"
     ]
    }
   ],
   "source": [
    "#15. Write a Python program to calculate the sum of the digits in an integer\n",
    "num = int(input(\"Enter a number: \"))\n",
    "\n",
    "if len(str(num)) == 2:\n",
    "    x1  = num //10\n",
    "    x2 = num - x1*10\n",
    "    sum = x1+x2\n",
    "    print(\"sum of\",x1,\"+\",x2,\" is \",sum)\n",
    "elif len(str(num)) == 3:\n",
    "    x1 = num //100\n",
    "    x2 = (num - x1*100)//10\n",
    "    x3 = num - x1*100 - x2*10\n",
    "    sum = x1+x2+x3\n",
    "    print(\"sum of\",x1,\"+\",x2,\"+\",x3,\" is \",sum)\n",
    "elif len(str(num)) == 4:\n",
    "    x1  = num //1000\n",
    "    x2 = (num - x1*1000)//100\n",
    "    x3 = (num - x1*1000 - x2*100)//10\n",
    "    x4 = num - x1*1000 - x2*100 - x3*10\n",
    "    print(\"sum of\",x1,\"+\",x2,\"+\",x3,\"+\",x4,\" is \",sum)\n",
    "        \n",
    "\n"
   ]
  },
  {
   "cell_type": "code",
   "execution_count": 80,
   "metadata": {},
   "outputs": [
    {
     "name": "stdout",
     "output_type": "stream",
     "text": [
      "Enter any decimal number: 32\n",
      "Binary Representation of  32 is  100000\n"
     ]
    }
   ],
   "source": [
    "# 16. Write a Python program to convert an decimal integer to binary\n",
    "def decimalToBinary(num):\n",
    "    \"\"\"This function converts decimal number\n",
    "    to binary and prints it\"\"\"\n",
    "   \n",
    "    return bin(num).replace(\"0b\", \"\") \n",
    "\n",
    "\n",
    "# decimal number\n",
    "number = int(input(\"Enter any decimal number: \"))\n",
    "print(\"Binary Representation of \",number,\"is \", decimalToBinary(number))\n"
   ]
  },
  {
   "cell_type": "code",
   "execution_count": 28,
   "metadata": {},
   "outputs": [
    {
     "name": "stdout",
     "output_type": "stream",
     "text": [
      "Enter any binay number: 1101\n",
      "Decimal Representation of  1101 is  13\n"
     ]
    }
   ],
   "source": [
    "# 17. Write a program to convert binary number to Decimal number\n",
    "def binaryToDecimal(binary): \n",
    "      \n",
    "    binary1 = binary \n",
    "    decimal, i, n = 0, 0, 0\n",
    "    while(binary != 0): \n",
    "        dec = binary % 10\n",
    "        decimal = decimal + dec * pow(2, i) \n",
    "        binary = binary//10\n",
    "        i += 1\n",
    "    print(\"Decimal Representation of \",binary1,\"is \",decimal)     \n",
    "      \n",
    "  \n",
    "number = int(input(\"Enter any binay number: \"))\n",
    "binaryToDecimal(number) \n"
   ]
  },
  {
   "cell_type": "code",
   "execution_count": 29,
   "metadata": {},
   "outputs": [
    {
     "name": "stdout",
     "output_type": "stream",
     "text": [
      "Please Enter text : QuickBrownFoxJumpsovertheDog\n",
      "Total Number of Vowels in this String =  9\n",
      "Total Number of Consonants in this String =  19\n"
     ]
    }
   ],
   "source": [
    "# 18. Python Program to Count Vowels and Consonants in a String\n",
    "\n",
    "str1 = input(\"Please Enter text : \")\n",
    "vowels = 0\n",
    "consonants = 0\n",
    "\n",
    "for i in str1:\n",
    "    if(i == 'a' or i == 'e' or i == 'i' or i == 'o' or i == 'u'\n",
    "       or i == 'A' or i == 'E' or i == 'I' or i == 'O' or i == 'U'):\n",
    "        vowels = vowels + 1\n",
    "    else:\n",
    "        consonants = consonants + 1\n",
    " \n",
    "print(\"Total Number of Vowels in this String = \", vowels)\n",
    "print(\"Total Number of Consonants in this String = \", consonants)"
   ]
  },
  {
   "cell_type": "code",
   "execution_count": 33,
   "metadata": {},
   "outputs": [
    {
     "name": "stdout",
     "output_type": "stream",
     "text": [
      "PLese Enter Text Hello\n",
      "Text  Hello  is not Palindrome\n"
     ]
    }
   ],
   "source": [
    "# 19. Write a program to check whether given input is palindrome or not\n",
    "\n",
    "def reverse(s): \n",
    "    return s[::-1] \n",
    "  \n",
    "def isPalindrome(s): \n",
    "    # Calling reverse function \n",
    "    rev = reverse(s) \n",
    "  \n",
    "    # Checking if both string are equal or not \n",
    "    if (s == rev): \n",
    "        return True\n",
    "    return False\n",
    "  \n",
    "  \n",
    "# Driver code \n",
    "s = input(\"PLese Enter Text \")\n",
    "ans = isPalindrome(s) \n",
    "  \n",
    "if ans == 1: \n",
    "    print(\"Text \",s,\" is Palindrome\") \n",
    "else: \n",
    "    print(\"Text \",s,\" is not Palindrome\") "
   ]
  },
  {
   "cell_type": "code",
   "execution_count": 38,
   "metadata": {},
   "outputs": [
    {
     "name": "stdout",
     "output_type": "stream",
     "text": [
      "Please Enter your Own String : hello @ 321 %^&*\n",
      "Alphabets =  5\n",
      "Numbers =  3\n",
      "Special Characters =  5\n",
      "Spaces =  3\n"
     ]
    }
   ],
   "source": [
    "# 20. Write a Python program that accepts a string and calculate the number of digits and letters\n",
    "\n",
    "str1 = input(\"Please Enter your Own String : \")\n",
    "alphabets = digits = special = spaces = 0\n",
    "\n",
    "for i in range(len(str1)):\n",
    "    if((str1[i] >= 'a' and str1[i] <= 'z') or (str1[i] >= 'A' and str1[i] <= 'Z')): \n",
    "        alphabets = alphabets + 1 \n",
    "    elif(str1[i] >= '0' and str1[i] <= '9'):\n",
    "        digits = digits + 1\n",
    "    elif str1[i].isspace():\n",
    "        spaces += 1\n",
    "    else:\n",
    "        special = special + 1\n",
    "        \n",
    "print(\"Alphabets = \", alphabets)\n",
    "print(\"Numbers = \", digits)\n",
    "print(\"Special Characters = \", special)\n",
    "print(\"Spaces = \", spaces)"
   ]
  },
  {
   "cell_type": "code",
   "execution_count": 39,
   "metadata": {},
   "outputs": [
    {
     "name": "stdout",
     "output_type": "stream",
     "text": [
      "\n",
      "* \n",
      "* * \n",
      "* * * \n",
      "* * * * \n",
      "* * * * * \n",
      "* * * * \n",
      "* * * \n",
      "* * \n",
      "* \n"
     ]
    }
   ],
   "source": [
    "# 21. Write a Python program to construct the following pattern\n",
    "n=5;\n",
    "for i in range(n):\n",
    "    for j in range(i):\n",
    "        print ('* ', end=\"\")\n",
    "    print('')\n",
    "\n",
    "for i in range(n,0,-1):\n",
    "    for j in range(i):\n",
    "        print('* ', end=\"\")\n",
    "    print('')"
   ]
  },
  {
   "cell_type": "code",
   "execution_count": 44,
   "metadata": {},
   "outputs": [
    {
     "name": "stdout",
     "output_type": "stream",
     "text": [
      "\n",
      "1\n",
      "12\n",
      "123\n",
      "1234\n",
      "12345\n",
      "1234\n",
      "123\n",
      "12\n",
      "1\n"
     ]
    }
   ],
   "source": [
    "#22. Write a Python program to construct the following pattern\n",
    "n=5;\n",
    "for i in range(n):\n",
    "    for j in range(i):\n",
    "        print (j+1, end=\"\")\n",
    "    print('')\n",
    "\n",
    "for i in range(n,0,-1):\n",
    "    for j in range(i):\n",
    "        print(j+1 , end=\"\")\n",
    "    print('')"
   ]
  },
  {
   "cell_type": "code",
   "execution_count": 54,
   "metadata": {},
   "outputs": [
    {
     "name": "stdout",
     "output_type": "stream",
     "text": [
      " \n",
      "1 \n",
      "22 \n",
      "333 \n",
      "4444 \n",
      "55555 \n",
      "666666 \n",
      "7777777 \n",
      "88888888 \n",
      "999999999 \n"
     ]
    }
   ],
   "source": [
    "# 23. Write a Python program to construct the following pattern\n",
    "for num in range(10):\n",
    "    for i in range(num):\n",
    "        print (num, end=\"\") #print number\n",
    "    # new line after each row to display pattern correctly\n",
    "    print(\" \")"
   ]
  }
 ],
 "metadata": {
  "kernelspec": {
   "display_name": "Python 3",
   "language": "python",
   "name": "python3"
  },
  "language_info": {
   "codemirror_mode": {
    "name": "ipython",
    "version": 3
   },
   "file_extension": ".py",
   "mimetype": "text/x-python",
   "name": "python",
   "nbconvert_exporter": "python",
   "pygments_lexer": "ipython3",
   "version": "3.7.3"
  }
 },
 "nbformat": 4,
 "nbformat_minor": 2
}
